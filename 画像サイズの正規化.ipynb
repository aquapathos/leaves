{
 "cells": [
  {
   "cell_type": "markdown",
   "metadata": {},
   "source": [
    "ファイル名を書き換え"
   ]
  },
  {
   "cell_type": "code",
   "execution_count": 69,
   "metadata": {},
   "outputs": [
    {
     "data": {
      "text/plain": [
       "'  \\nfolders = glob(\"pics/*\")\\nprint(folders)\\nfor folder in folders:\\n    files = glob(\"{}/*\".format(folder))\\n    jpg = re.compile(\"jpg\")\\n    # print(files)\\n    for i, file in enumerate(files):\\n        if jpg.search(file):\\n            os.rename(file,\"{}/{}{:02d}.jpg\".format(os.path.dirname(file),os.path.basename(folder),i))\\n            print(file, \"-> {}/{}{:02d}.jpg\".format(os.path.dirname(file),os.path.basename(folder),i))\\n'"
      ]
     },
     "execution_count": 69,
     "metadata": {},
     "output_type": "execute_result"
    }
   ],
   "source": [
    "# フォルダ内の画像をリネーム\n",
    "import os, time, sys\n",
    "from glob import glob\n",
    "import re\n",
    "from PIL import Image\n",
    "\n",
    "# ２度実行するとファイルを破壊するのでコメントアウトしてある\n",
    "'''  \n",
    "folders = glob(\"pics/*\")\n",
    "print(folders)\n",
    "for folder in folders:\n",
    "    files = glob(\"{}/*\".format(folder))\n",
    "    jpg = re.compile(\"jpg\")\n",
    "    # print(files)\n",
    "    for i, file in enumerate(files):\n",
    "        if jpg.search(file):\n",
    "            os.rename(file,\"{}/{}{:02d}.jpg\".format(os.path.dirname(file),os.path.basename(folder),i))\n",
    "            print(file, \"-> {}/{}{:02d}.jpg\".format(os.path.dirname(file),os.path.basename(folder),i))\n",
    "'''"
   ]
  },
  {
   "cell_type": "markdown",
   "metadata": {},
   "source": [
    "# 画像サイズを128x128に変換"
   ]
  },
  {
   "cell_type": "code",
   "execution_count": 70,
   "metadata": {
    "collapsed": true
   },
   "outputs": [],
   "source": [
    "folders = glob(\"pics/*\")\n",
    "for folder in folders:\n",
    "    files = glob(\"{}/*\".format(folder))\n",
    "    jpg = re.compile(\"jpg\")\n",
    "    for i, file in enumerate(files):\n",
    "        if jpg.search(file):\n",
    "            img = Image.open(file)\n",
    "            width = img.width\n",
    "            height = img.height\n",
    "            if width > height :\n",
    "                newheight = 128\n",
    "                newwidth = int(width*128/height)\n",
    "            else:\n",
    "                newwidth = 128\n",
    "                newheight = int(height*128/width)\n",
    "            img = img.resize((newwidth,newheight))\n",
    "            x1= int((img.width - 128)/2)\n",
    "            x2 = x1+128\n",
    "            y1= int((img.height - 128)/2)\n",
    "            y2 = y1+128\n",
    "            img = img.crop((x1,y1,x2,y2)).resize((128,128))  #128x128にリサイズ\n",
    "            img.save(file)"
   ]
  },
  {
   "cell_type": "code",
   "execution_count": null,
   "metadata": {
    "collapsed": true
   },
   "outputs": [],
   "source": []
  }
 ],
 "metadata": {
  "kernelspec": {
   "display_name": "Python 3",
   "language": "python",
   "name": "python3"
  },
  "language_info": {
   "codemirror_mode": {
    "name": "ipython",
    "version": 3
   },
   "file_extension": ".py",
   "mimetype": "text/x-python",
   "name": "python",
   "nbconvert_exporter": "python",
   "pygments_lexer": "ipython3",
   "version": "3.6.2"
  }
 },
 "nbformat": 4,
 "nbformat_minor": 2
}
