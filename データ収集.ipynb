{
 "cells": [
  {
   "cell_type": "markdown",
   "metadata": {},
   "source": [
    "# 学習データ収集\n",
    "# Flickr 上の著作権フリー画像をダウンロードする\n",
    "\n",
    "flickr.photos.search　というメソッドを利用する。くわしくは、\n",
    "\n",
    "PHP での説明であるが、[flickr APIの使い方まとめ(サンプルコード付き)](https://syncer.jp/flickr-api-matome) が参考になる。\n",
    "\n",
    "### Anaconda 標準でない必要ライブラリ\n",
    "- tensorflow\n",
    "- keras\n",
    "- flickrapi\n",
    "\n",
    "tensorflow は conda で導入可能。ほか２つは pip install で導入。\n",
    "\n",
    "### Flickr API の取得\n",
    "「Flickr API key 取得」といった語で検索したらやり方を解説したサイトが出てくる。説明省略"
   ]
  },
  {
   "cell_type": "code",
   "execution_count": null,
   "metadata": {
    "collapsed": true
   },
   "outputs": [],
   "source": [
    "from flickrapi import FlickrAPI\n",
    "from urllib.request import urlretrieve\n",
    "from pprint import pprint\n",
    "import os, time, sys\n",
    "from PIL import Image\n",
    "\n",
    "key = '581aad48f15c7be10c83abb9c99ba888'\n",
    "secret = '881ad19fd75c5c3a'\n",
    "flickr = FlickrAPI(key, secret, format= 'parsed-json')"
   ]
  },
  {
   "cell_type": "markdown",
   "metadata": {},
   "source": [
    "# ライセンスについて Flickrの写真には、次の分類に従った著作権ラベルが付けられている\n",
    "\n",
    "- 0 All Rights Reserved\n",
    "- 1 Attribution-NonCommercial-ShareAlike License\n",
    "- 2 Attribution-NonCommercial License\n",
    "- 3 Attribution-NonCommercial-NoDerivs License\n",
    "- 4 Attribution License\n",
    "- 5 Attribution-ShareAlike License\n",
    "- 6 Attribution-NoDerivs License\n",
    "- 7 No known copyright restrictions\n",
    "- 8 United States Government Work\n",
    "- 9 Public Domain Dedication (CC0)\n",
    "- 10 Public Domain Mark"
   ]
  },
  {
   "cell_type": "code",
   "execution_count": null,
   "metadata": {},
   "outputs": [],
   "source": [
    "for li in flickr.photos.licenses.getInfo()['licenses']['license']:\n",
    "    print(li['id'],li['name'])"
   ]
  },
  {
   "cell_type": "markdown",
   "metadata": {},
   "source": [
    "# キーワードによる写真の収集"
   ]
  },
  {
   "cell_type": "code",
   "execution_count": null,
   "metadata": {
    "scrolled": false
   },
   "outputs": [],
   "source": [
    "search_for = \"Zelkova leaves\" # ケヤキの葉\n",
    "search_for = \"osmanthus\" # 金木犀\n",
    "search_for = \"dogwood leaf\" # ハナミズキ\n",
    "search_for = \"Leaf Magnolia\" # ハモクレン\n",
    "search_for = \"sieboldiana\" # ハナノキ\n",
    "# search_for = \"yoshino leaf cherry\" # ソメイヨシノ  と ヤマザクラは Google 検索で\n",
    "\n",
    "savedir = \"./\"  + search_for\n",
    "if not os.path.exists(savedir):\n",
    "    os.mkdir(savedir)\n",
    "\n",
    "def  getPictures(page=1):\n",
    "    res = flickr.photos.search(\n",
    "        text = search_for,  # 検索キーワード\n",
    "        page = page,\n",
    "        per_page = 100,  # 検索件数\n",
    "        media = 'photos',  # 画像のみを検索対象とする\n",
    "        sort = 'relevance', # 関連の強い順に並べ替え\n",
    "        safe_search = 1, # 不適切な画像は除く\n",
    "        extras =  'url_s,license') # 取得するデータ項目\n",
    "    return res\n",
    "\n",
    "'''\n",
    "url_sq … 75x75サイズの画像ファイルURL。\n",
    "url_t … 最大100pxの画像ファイルURL。\n",
    "url_s … 最大240pxの画像ファイルURL。\n",
    "url_q … 150x150の画像ファイルURL。\n",
    "url_m … 最大500pxの画像ファイルURL。\n",
    "url_n … 最大320pxの画像ファイルURL。\n",
    "url_z … 最大640pxの画像ファイルURL。\n",
    "url_c … 最大800pxの画像ファイルURL。\n",
    "url_l … 最大1024pxの画像ファイルURL。\n",
    "url_o … オリジナルサイズの画像ファイルURL。\n",
    "'''\n",
    "\n",
    "sleep_time = 1\n",
    "page = 0\n",
    "pic_count = 0\n",
    "pic_needed = 200\n",
    "\n",
    "while True :\n",
    "    photos =  getPictures(page = page)['photos']\n",
    "    # pprint(photos)\n",
    "    print(\"page =\",page, \"pic_count=\",pic_count)\n",
    "    try:\n",
    "        for i, photo in enumerate(photos['photo']):\n",
    "            lic = photo['license']\n",
    "            if lic != '0' : # 完全著作権保護されているものはのぞく\n",
    "                url = photo['url_s']\n",
    "                filepath = savedir + '/' +  photo['id'] + '.jpg'\n",
    "                if os.path.exists(filepath): continue\n",
    "                # print(str(i+1) + ':url=', url_sq, 'license', lic)\n",
    "                urlretrieve(url, filepath)\n",
    "                img = Image.open(filepath, 'r')\n",
    "                time.sleep(sleep_time)\n",
    "                os.remove(filepath) # 一旦削除\n",
    "                if img.width >= 160  and img.height >= 160 :  # 短辺が160以上の画像のみ採用\n",
    "                    pic_count += 1\n",
    "                    x1= int((img.width - 160)/2)\n",
    "                    x2 = x1+160\n",
    "                    y1= int((img.height - 160)/2)\n",
    "                    y2 = y1+160\n",
    "                    img = img.crop((x1,y1,x2,y2)).resize((128,128))  #128x128にリサイズ\n",
    "                    img.save(filepath)\n",
    "                if pic_count == pic_needed:break\n",
    "    except:\n",
    "        import traceback\n",
    "        traceback.print_exc()\n",
    "    page +=1\n",
    "    if pic_count >= pic_needed: break"
   ]
  },
  {
   "cell_type": "code",
   "execution_count": null,
   "metadata": {
    "collapsed": true
   },
   "outputs": [],
   "source": []
  },
  {
   "cell_type": "code",
   "execution_count": null,
   "metadata": {
    "collapsed": true
   },
   "outputs": [],
   "source": []
  }
 ],
 "metadata": {
  "kernelspec": {
   "display_name": "Python 3",
   "language": "python",
   "name": "python3"
  },
  "language_info": {
   "codemirror_mode": {
    "name": "ipython",
    "version": 3
   },
   "file_extension": ".py",
   "mimetype": "text/x-python",
   "name": "python",
   "nbconvert_exporter": "python",
   "pygments_lexer": "ipython3",
   "version": "3.6.2"
  }
 },
 "nbformat": 4,
 "nbformat_minor": 2
}
