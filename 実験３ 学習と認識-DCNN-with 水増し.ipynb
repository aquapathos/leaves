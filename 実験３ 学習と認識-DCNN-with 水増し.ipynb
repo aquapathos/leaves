{
 "cells": [
  {
   "cell_type": "markdown",
   "metadata": {},
   "source": [
    "# 実験３　葉のデータの機械学習  深層学習（水増しあり）\n",
    "\n",
    "## 学習対象データ\n",
    "\n",
    "- １２８×１２８のカラー画像　\n",
    "- カテゴリ数 ７\n",
    "- カテゴリあたりのデータ数１６\n",
    "- 総画像数１１２\n",
    "\n",
    "## ネットワーク構成\n",
    "\n",
    "1.  入力層 　　（縦１２８, 横128, 3チャンネル）  \n",
    "2. たたみこみ層 　　３×３  × 64チャネル\n",
    "3.  プーリング層　　max プーリング　　　２x２   ストライド２\n",
    "4. ドロップアウト\n",
    "5.  たたみこみ層 　　３×３  × 32チャネル\n",
    "6.  プーリング層　　max プーリング　　　２x２   ストライド２\n",
    "7. 全結合層  256\n",
    "8. ドロップアウト\n",
    "9. 全結合層　　32\n",
    "10. 出力層（softmax 出力）\n",
    "\n",
    "活性化関数としてはランプ関数（　ReLU関数）を用いる。\n"
   ]
  },
  {
   "cell_type": "code",
   "execution_count": 17,
   "metadata": {},
   "outputs": [
    {
     "name": "stdout",
     "output_type": "stream",
     "text": [
      "クラス数= 7 ['hanamizuki', 'kinmokusei', 'yoshino', 'yamazakura', 'hamokuren', 'keyaki', 'hananoki']\n"
     ]
    }
   ],
   "source": [
    "import numpy as np\n",
    "from PIL import Image\n",
    "import os, glob, random\n",
    "\n",
    "imgsize = 128 # 画像のサイズ\n",
    "ppics = 16  # カテゴリごとの画像数  \n",
    "\n",
    "folders = glob.glob(\"pics/*\")\n",
    "\n",
    "categories = [os.path.basename(c) for c in folders]\n",
    "classes = len(categories)\n",
    "\n",
    "print(\"クラス数=\",classes, categories)"
   ]
  },
  {
   "cell_type": "code",
   "execution_count": 92,
   "metadata": {},
   "outputs": [
    {
     "name": "stdout",
     "output_type": "stream",
     "text": [
      "データ数は 112\n",
      "正解ラベル [ 0.  0.  0.  0.  0.  0.  0.  0.  0.  0.  0.  0.  0.  0.  0.  0.  1.  1.\n",
      "  1.  1.  1.  1.  1.  1.  1.  1.  1.  1.  1.  1.  1.  1.  2.  2.  2.  2.\n",
      "  2.  2.  2.  2.  2.  2.  2.  2.  2.  2.  2.  2.  3.  3.  3.  3.  3.  3.\n",
      "  3.  3.  3.  3.  3.  3.  3.  3.  3.  3.  4.  4.  4.  4.  4.  4.  4.  4.\n",
      "  4.  4.  4.  4.  4.  4.  4.  4.  5.  5.  5.  5.  5.  5.  5.  5.  5.  5.\n",
      "  5.  5.  5.  5.  5.  5.  6.  6.  6.  6.  6.  6.  6.  6.  6.  6.  6.  6.\n",
      "  6.  6.  6.  6.]\n"
     ]
    }
   ],
   "source": [
    "# 画像の読み込み\n",
    "def make_dataset():\n",
    "    global X\n",
    "    global y\n",
    "    X, y = [],[]\n",
    "    folders = glob.glob(\"pics/*\")\n",
    "    # print(folders)\n",
    "    for i, folder in enumerate(folders):\n",
    "        files = glob.glob(folder + \"/*.jpg\")\n",
    "        for j, file in enumerate(files):\n",
    "            img = Image.open(file)\n",
    "            # img = img.convert(\"RGB\")   # もし白黒画像が含まれているなら、変換が必要\n",
    "            img = img.resize((imgsize,imgsize))\n",
    "            X.append(img)\n",
    "        y = np.r_[y,np.array([i]*ppics,dtype=np.int32)] \n",
    "    \n",
    "# データセットの生成\n",
    "make_dataset()\n",
    "print(\"データ数は\",len(X))\n",
    "print(\"正解ラベル\",y)"
   ]
  },
  {
   "cell_type": "markdown",
   "metadata": {},
   "source": [
    "# データの水増し"
   ]
  },
  {
   "cell_type": "code",
   "execution_count": 93,
   "metadata": {
    "collapsed": true
   },
   "outputs": [],
   "source": [
    "# 画像データ x に対し、回転と反転により１８のバリエーションを作る。\n",
    "# 画像X[i]　に対して、その１８画像を配列Xm[i][18]に格納する。\n",
    "\n",
    "def rotateImages(img):\n",
    "        Xadd = []\n",
    "        data = np.asarray(img,dtype=np.float32)\n",
    "        Xadd.append(data)\n",
    "        \n",
    "        for angle in range(-20, 21, 5):\n",
    "            if angle != 0:\n",
    "                img_angle = img.rotate(angle)\n",
    "                data = np.asarray(img_angle,dtype=np.float32)\n",
    "                Xadd.append(data)\n",
    "                    \n",
    "            img_r = img_angle.transpose(Image.FLIP_LEFT_RIGHT)\n",
    "            data = np.asarray(img_r,dtype=np.float32)\n",
    "            Xadd.append(data)\n",
    "        return np.array(Xadd)\n",
    "\n",
    "Xm = [] \n",
    "for i, img in enumerate(X):\n",
    "    Xm.append(rotateImages(img))\n",
    "    data = np.asarray(img,dtype=np.float32)\n",
    "    X[i] = np.array(data)\n",
    "Xm = np.array(Xm)"
   ]
  },
  {
   "cell_type": "code",
   "execution_count": 89,
   "metadata": {},
   "outputs": [
    {
     "data": {
      "image/png": "[encoded data removed]",
      "text/plain": [
       "<PIL.Image.Image image mode=RGB size=128x128 at 0x1218B0940>"
      ]
     },
     "execution_count": 89,
     "metadata": {},
     "output_type": "execute_result"
    }
   ],
   "source": [
    "Image.fromarray(np.array(Xm[0][17],dtype=np.uint8))"
   ]
  },
  {
   "cell_type": "code",
   "execution_count": 98,
   "metadata": {},
   "outputs": [
    {
     "data": {
      "text/plain": [
       "((112, 18, 128, 128, 3), (112, 128, 128, 3))"
      ]
     },
     "execution_count": 98,
     "metadata": {},
     "output_type": "execute_result"
    }
   ],
   "source": [
    "X = np.array(X)\n",
    "Xm.shape,X.shape"
   ]
  },
  {
   "cell_type": "code",
   "execution_count": 124,
   "metadata": {
    "collapsed": true
   },
   "outputs": [],
   "source": [
    "# データの標準化\n",
    "#  経験的に、データは平均が０になっている方が効率よく学習できるので、標準化を施す。\n",
    "# 元のデータは整数値であるが、標準化により実数になることに注意\n",
    "\n",
    "from sklearn.preprocessing import StandardScaler\n",
    "sc = [StandardScaler() for i in range(3)]\n",
    "for i in range(3):\n",
    "    sp = X[:,:,:,i].shape\n",
    "    Xt = X[:,:,:,i].reshape(-1,1)\n",
    "    sc[i].fit(Xt)\n",
    "    X[:,:,:,i] = sc[i].transform(Xt).reshape(sp)\n",
    "    # for imges in Xm:\n",
    "    sp = Xm[:,:,:,:,i].shape\n",
    "    Xt = Xm[:,:,:,:,i].reshape(-1,1)\n",
    "    Xm[:,:,:,:,i] = sc[i].transform(Xt).reshape(sp) "
   ]
  },
  {
   "cell_type": "markdown",
   "metadata": {},
   "source": [
    "# 学習"
   ]
  },
  {
   "cell_type": "code",
   "execution_count": 125,
   "metadata": {
    "collapsed": true
   },
   "outputs": [],
   "source": [
    "# from sklearn.model_selection import train_test_split\n",
    "from sklearn.model_selection import StratifiedShuffleSplit\n",
    "from keras.models import Sequential\n",
    "from keras.layers import Activation, Dropout, Dense,  Flatten\n",
    "from keras.layers.convolutional import Conv2D\n",
    "from keras.layers.pooling import MaxPool2D\n",
    "from keras.optimizers import Adam\n",
    "\n",
    "from keras.utils import np_utils\n",
    "import numpy as np"
   ]
  },
  {
   "cell_type": "markdown",
   "metadata": {},
   "source": [
    "# 実験\n",
    "\n",
    "学習データ１１２　（＝７カテゴリ×１６）をシャッフルしてカテゴリが偏らないように、 訓練データとテストデータに２等分し、\n",
    "訓練データに対する正答率とテストデータに対する正答率を求める。\n",
    "\n",
    "学習データ\n",
    "\n",
    "同じ検定を５回繰り返して正答率の平均値を求めてみる。"
   ]
  },
  {
   "cell_type": "code",
   "execution_count": 128,
   "metadata": {
    "collapsed": true
   },
   "outputs": [],
   "source": [
    "#  時間がかかるので　テストように実験の繰り返しを１通りのみにしてある。本番では５通りを使うこと。\n",
    "def main():\n",
    "    result_train,result_test = [],[]\n",
    "    # sss = StratifiedShuffleSplit(n_splits=5, test_size=0.5, random_state=0) # ５通りの半々　分割\n",
    "    sss = StratifiedShuffleSplit(n_splits=1, test_size=0.5, random_state=0)  #  1 通りのみ　テスト用\n",
    "    count = 0\n",
    "    for train_index, test_index in sss.split(X,y):\n",
    "        X_train, y_train = np.zeros((0,128,128,3)),[]\n",
    "        for index in train_index:\n",
    "            X_train = np.r_[X_train, Xm[index]]\n",
    "            y_train = np.r_[y_train, [y[index]]*18]\n",
    "        X_test = X[test_index]\n",
    "        y_test = y[test_index]\n",
    "        \n",
    "        print(X_train.shape,y_train)\n",
    "        \n",
    "        model = train(X_train, y_train)\n",
    "        result_train.append(model_eval(model, X_train, y_train))\n",
    "        result_test.append(model_eval(model, X_test, y_test))\n",
    "        print('train loss=',result_train[count][0])\n",
    "        print('train accuracy=',result_train[count][1])\n",
    "        print('test loss=',result_test[count][0])\n",
    "        print('test accuracy=',result_test[count][1])\n",
    "        count = count+1\n",
    "    return model,train_index,test_index,result_train,result_test\n",
    "            \n",
    "def train(X, y):\n",
    "    model = Sequential()\n",
    "    \n",
    "    model.add(Conv2D(64,3,input_shape=(128,128,3)))\n",
    "    model.add(Activation('relu'))\n",
    "    model.add(MaxPool2D(pool_size=(2,2)))\n",
    "\n",
    "    model.add(Conv2D(32,3))\n",
    "    model.add(Activation('relu'))\n",
    "    model.add(MaxPool2D(pool_size=(2,2)))\n",
    "    model.add(Dropout(0.5))\n",
    "    \n",
    "    model.add(Flatten())\n",
    "    model.add(Dense(1024))\n",
    "    model.add(Activation('relu'))\n",
    "    model.add(Dropout(0.5))\n",
    "\n",
    "    model.add(Dense(classes,activation='softmax'))\n",
    "    \n",
    "    adam = Adam(lr=1e-4)\n",
    "    \n",
    "    model.compile(loss='sparse_categorical_crossentropy',\n",
    "                  optimizer=adam, metrics=['accuracy'])\n",
    "    model.fit(X,y,epochs=10)\n",
    "    return model\n",
    "\n",
    "def model_eval(model, X, y):\n",
    "    score = model.evaluate(X,y)\n",
    "    return score"
   ]
  },
  {
   "cell_type": "markdown",
   "metadata": {},
   "source": [
    "学習の実行"
   ]
  },
  {
   "cell_type": "code",
   "execution_count": 129,
   "metadata": {
    "scrolled": true
   },
   "outputs": [
    {
     "name": "stdout",
     "output_type": "stream",
     "text": [
      "(1008, 128, 128, 3) [ 3.  3.  3. ...,  0.  0.  0.]\n",
      "Epoch 1/10\n",
      "1008/1008 [==============================] - 64s 63ms/step - loss: 1.4252 - acc: 0.4355\n",
      "Epoch 2/10\n",
      "1008/1008 [==============================] - 61s 60ms/step - loss: 0.6605 - acc: 0.7540\n",
      "Epoch 3/10\n",
      "1008/1008 [==============================] - 60s 60ms/step - loss: 0.2681 - acc: 0.9335\n",
      "Epoch 4/10\n",
      "1008/1008 [==============================] - 60s 60ms/step - loss: 0.1265 - acc: 0.9752\n",
      "Epoch 5/10\n",
      "1008/1008 [==============================] - 61s 60ms/step - loss: 0.0805 - acc: 0.9841\n",
      "Epoch 6/10\n",
      "1008/1008 [==============================] - 65s 64ms/step - loss: 0.0410 - acc: 0.9950\n",
      "Epoch 7/10\n",
      "1008/1008 [==============================] - 59s 59ms/step - loss: 0.0299 - acc: 0.9960\n",
      "Epoch 8/10\n",
      "1008/1008 [==============================] - 60s 59ms/step - loss: 0.0257 - acc: 0.9980\n",
      "Epoch 9/10\n",
      "1008/1008 [==============================] - 59s 59ms/step - loss: 0.0191 - acc: 0.9980\n",
      "Epoch 10/10\n",
      "1008/1008 [==============================] - 68s 68ms/step - loss: 0.0150 - acc: 0.9980\n",
      "1008/1008 [==============================] - 21s 20ms/step\n",
      "56/56 [==============================] - 1s 18ms/step\n",
      "train loss= 0.00240681929022\n",
      "train accuracy= 1.0\n",
      "test loss= 2.31689548492\n",
      "test accuracy= 0.571428571429\n"
     ]
    }
   ],
   "source": [
    "model,train_index,test_index,result_train,result_test = main()"
   ]
  },
  {
   "cell_type": "markdown",
   "metadata": {},
   "source": [
    "# 正認識率\n"
   ]
  },
  {
   "cell_type": "code",
   "execution_count": 136,
   "metadata": {},
   "outputs": [
    {
     "name": "stdout",
     "output_type": "stream",
     "text": [
      "0回目　　　　訓練データ正解率100.0%　 　テストデータ正解率 57.1%\n",
      "平均正認識率　　　　訓練データ　 100.0%　     テストデータ　  57.1%　　\n"
     ]
    }
   ],
   "source": [
    "trainaccav, testaccav = 0,0 \n",
    "n = len(result_train)\n",
    "for i in range(n):\n",
    "    print(\"{0}回目　　　　訓練データ正解率{1:5.1f}%　 　テストデータ正解率{２:5.1f}%\".format(i,result_train[i][1]*100, result_test[i][1]*100))\n",
    "    trainaccav, testaccav = trainaccav+ result_train[i][1], testaccav+result_test[i][1]  \n",
    "\n",
    "print(\"平均正認識率　　　　訓練データ　 {0:5.1f}%　     テストデータ　 {1:5.1f}%　　\".format(trainaccav/n*100,testaccav/n*100))"
   ]
  },
  {
   "cell_type": "code",
   "execution_count": null,
   "metadata": {},
   "outputs": [],
   "source": []
  },
  {
   "cell_type": "markdown",
   "metadata": {},
   "source": [
    "# 詳細な認識結果\n",
    "５回試みた学習のうち、最終回の学習結果による全データの認識結果"
   ]
  },
  {
   "cell_type": "code",
   "execution_count": 138,
   "metadata": {},
   "outputs": [
    {
     "name": "stdout",
     "output_type": "stream",
     "text": [
      "0/6     0/0     0/0     0/5     0/0     0/0     0/0     0/4     0/0     0/0     0/0     0/2     0/0     0/0     0/0     0/6     \n",
      "1/1     1/1     1/1     1/1     1/1     1/1     1/1     1/1     1/1     1/1     1/1     1/3     1/1     1/2     1/1     1/2     \n",
      "2/2     2/2     2/2     2/6     2/2     2/2     2/2     2/2     2/2     2/2     2/2     2/2     2/2     2/2     2/2     2/6     \n",
      "3/3     3/3     3/3     3/5     3/5     3/3     3/3     3/1     3/3     3/3     3/3     3/3     3/3     3/3     3/3     3/3     \n",
      "4/4     4/1     4/4     4/4     4/4     4/4     4/4     4/6     4/4     4/4     4/5     4/4     4/4     4/4     4/4     4/4     \n",
      "5/5     5/5     5/5     5/3     5/2     5/5     5/5     5/5     5/5     5/5     5/5     5/3     5/5     5/5     5/0     5/5     \n",
      "6/6     6/6     6/6     6/2     6/0     6/6     6/6     6/3     6/6     6/0     6/6     6/6     6/6     6/6     6/6     6/6     \n"
     ]
    }
   ],
   "source": [
    "pred = model.predict_classes(X)\n",
    "for i in range(7):\n",
    "    for j in range(16):\n",
    "        print(\"{}/{}\".format(i,pred[16*i+j]), end=\"     \")\n",
    "    print()"
   ]
  },
  {
   "cell_type": "markdown",
   "metadata": {},
   "source": [
    "# 誤認識の解析\n",
    "\n",
    "（以下は考察の例　 　上の結果に基づいて記入する）\n",
    "\n",
    "一例として、最後のケースについて、 正解不正解の和人誤認識例を確認してみると、\n",
    "\n",
    "||カテゴリ |正認識数 |誤認識数|誤認識されたカテゴリ|\n",
    "|:--------------:|:-----------:|:----------:|:--------:|:---------------|\n",
    "|0|ハナミズキ|9|7||\n",
    "|1|キンモクセイ|１1|5||\n",
    "|２|ソメイヨシノ|9|7|　|\n",
    "|３|ヤマザクラ|１1|5||  \n",
    "|４|ハモクレン|１3|3||\n",
    "|５|ケヤキ|11|5||  \n",
    "|６|ハナノキ|１3|3||"
   ]
  },
  {
   "cell_type": "code",
   "execution_count": null,
   "metadata": {
    "collapsed": true
   },
   "outputs": [],
   "source": []
  },
  {
   "cell_type": "code",
   "execution_count": null,
   "metadata": {
    "collapsed": true
   },
   "outputs": [],
   "source": []
  },
  {
   "cell_type": "code",
   "execution_count": null,
   "metadata": {
    "collapsed": true
   },
   "outputs": [],
   "source": []
  }
 ],
 "metadata": {
  "kernelspec": {
   "display_name": "Python 3",
   "language": "python",
   "name": "python3"
  },
  "language_info": {
   "codemirror_mode": {
    "name": "ipython",
    "version": 3
   },
   "file_extension": ".py",
   "mimetype": "text/x-python",
   "name": "python",
   "nbconvert_exporter": "python",
   "pygments_lexer": "ipython3",
   "version": "3.6.2"
  }
 },
 "nbformat": 4,
 "nbformat_minor": 2
}
