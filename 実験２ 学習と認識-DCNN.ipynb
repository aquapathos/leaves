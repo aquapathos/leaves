{
 "cells": [
  {
   "cell_type": "markdown",
   "metadata": {},
   "source": [
    "# 実験２　葉のデータの機械学習  深層学習\n",
    "\n",
    "## 学習対象データ\n",
    "\n",
    "- １２８×１２８のカラー画像　\n",
    "- カテゴリ数 ７\n",
    "- カテゴリあたりのデータ数１６\n",
    "- 総画像数１１２\n",
    "\n",
    "## ネットワーク構成\n",
    "\n",
    "1.  入力層 　　（縦１２８, 横128, 3チャンネル）  \n",
    "2. たたみこみ層 　　３×３  × 64チャネル\n",
    "3.  プーリング層　　max プーリング　　　２x２   ストライド２\n",
    "4. ドロップアウト\n",
    "5.  たたみこみ層 　　３×３  × 32チャネル\n",
    "6.  プーリング層　　max プーリング　　　２x２   ストライド２\n",
    "7. 全結合層  256\n",
    "8. ドロップアウト\n",
    "9. 全結合層　　32\n",
    "10. 出力層（softmax 出力）\n",
    "\n",
    "活性化関数としてはランプ関数（　ReLU関数）を用いる。\n"
   ]
  },
  {
   "cell_type": "code",
   "execution_count": 23,
   "metadata": {},
   "outputs": [
    {
     "name": "stdout",
     "output_type": "stream",
     "text": [
      "クラス数= 7 ['hanamizuki', 'kinmokusei', 'yoshino', 'yamazakura', 'hamokuren', 'keyaki', 'hananoki']\n"
     ]
    }
   ],
   "source": [
    "#  基礎実験\n",
    "import numpy as np\n",
    "from PIL import Image\n",
    "import os, glob, random\n",
    "\n",
    "imgsize = 128 # 画像のサイズ\n",
    "ppics = 16  # カテゴリごとの画像数  \n",
    "\n",
    "folders = glob.glob(\"pics/*\")\n",
    "\n",
    "categories = [os.path.basename(c) for c in folders]\n",
    "classes = len(categories)\n",
    "\n",
    "print(\"クラス数=\",classes, categories)"
   ]
  },
  {
   "cell_type": "code",
   "execution_count": 24,
   "metadata": {},
   "outputs": [
    {
     "name": "stdout",
     "output_type": "stream",
     "text": [
      "データ数は 112\n",
      "正解ラベル [ 0.  0.  0.  0.  0.  0.  0.  0.  0.  0.  0.  0.  0.  0.  0.  0.  1.  1.\n",
      "  1.  1.  1.  1.  1.  1.  1.  1.  1.  1.  1.  1.  1.  1.  2.  2.  2.  2.\n",
      "  2.  2.  2.  2.  2.  2.  2.  2.  2.  2.  2.  2.  3.  3.  3.  3.  3.  3.\n",
      "  3.  3.  3.  3.  3.  3.  3.  3.  3.  3.  4.  4.  4.  4.  4.  4.  4.  4.\n",
      "  4.  4.  4.  4.  4.  4.  4.  4.  5.  5.  5.  5.  5.  5.  5.  5.  5.  5.\n",
      "  5.  5.  5.  5.  5.  5.  6.  6.  6.  6.  6.  6.  6.  6.  6.  6.  6.  6.\n",
      "  6.  6.  6.  6.]\n"
     ]
    }
   ],
   "source": [
    "# 画像の読み込み\n",
    "def make_dataset():\n",
    "    global X\n",
    "    global y\n",
    "    X, y = [],[]\n",
    "    folders = glob.glob(\"pics/*\")\n",
    "    # print(folders)\n",
    "    for i, folder in enumerate(folders):\n",
    "        files = glob.glob(folder + \"/*.jpg\")\n",
    "        for j, file in enumerate(files):\n",
    "            img = Image.open(file)\n",
    "            # img = img.convert(\"RGB\")   # もし白黒画像が含まれているなら、変換が必要\n",
    "            img = img.resize((imgsize,imgsize))\n",
    "            data = np.asarray(img,dtype=np.float32)\n",
    "            X.append(data)\n",
    "        y = np.r_[y,np.array([i]*ppics).astype(np.int32)] \n",
    "    X = np.array(X)\n",
    "    \n",
    "# データセットの生成\n",
    "make_dataset()\n",
    "print(\"データ数は\",len(X))\n",
    "print(\"正解ラベル\",y)"
   ]
  },
  {
   "cell_type": "code",
   "execution_count": 25,
   "metadata": {
    "collapsed": true
   },
   "outputs": [],
   "source": [
    "# データの標準化\n",
    "#  経験的に、データは平均が０になっている方が効率よく学習できるので、標準化を施す。\n",
    "# 元のデータは整数値であるが、標準化により実数になることに注意\n",
    "\n",
    "from sklearn.preprocessing import StandardScaler\n",
    "sc = [StandardScaler() for i in range(3)]\n",
    "for i in range(3):\n",
    "    sp = X[:,:,:,i].shape\n",
    "    Xt = X[:,:,:,i].reshape(-1,1)\n",
    "    sc[i].fit(Xt)\n",
    "    X[:,:,:,i] = sc[i].transform(Xt).reshape(sp)   "
   ]
  },
  {
   "cell_type": "markdown",
   "metadata": {},
   "source": [
    "# 学習"
   ]
  },
  {
   "cell_type": "code",
   "execution_count": 26,
   "metadata": {
    "collapsed": true
   },
   "outputs": [],
   "source": [
    "# from sklearn.model_selection import train_test_split\n",
    "from sklearn.model_selection import StratifiedShuffleSplit\n",
    "from keras.models import Sequential\n",
    "from keras.layers import Activation, Dropout, Dense,  Flatten\n",
    "from keras.layers.convolutional import Conv2D\n",
    "from keras.layers.pooling import MaxPool2D\n",
    "from keras.optimizers import Adam\n",
    "\n",
    "from keras.utils import np_utils\n",
    "import numpy as np"
   ]
  },
  {
   "cell_type": "markdown",
   "metadata": {},
   "source": [
    "# 実験\n",
    "\n",
    "学習データ１１２　（＝７カテゴリ×１６）をシャッフルしてカテゴリが偏らないように、 訓練データとテストデータに２等分し、\n",
    "訓練データに対する正答率とテストデータに対する正答率を求める。\n",
    "\n",
    "同じ検定を５回繰り返して正答率の平均値を求めてみる。"
   ]
  },
  {
   "cell_type": "code",
   "execution_count": 27,
   "metadata": {
    "collapsed": true
   },
   "outputs": [],
   "source": [
    "def main():\n",
    "    result_train,result_test = [],[]\n",
    "    sss = StratifiedShuffleSplit(n_splits=5, test_size=0.5, random_state=0)\n",
    "    count = 0\n",
    "    for train_index, test_index in sss.split(X,y):\n",
    "        print(len(train_index),len(test_index))\n",
    "        X_train, X_test = X[train_index], X[test_index]\n",
    "        y_train, y_test = y[train_index], y[test_index]\n",
    "        model = train(X_train, y_train)\n",
    "        result_train.append(model_eval(model, X_train, y_train))\n",
    "        result_test.append(model_eval(model, X_test, y_test))\n",
    "        print('train loss=',result_train[count][0])\n",
    "        print('train accuracy=',result_train[count][1])\n",
    "        print('test loss=',result_test[count][0])\n",
    "        print('test accuracy=',result_test[count][1])\n",
    "        count = count+1\n",
    "    return model,train_index,test_index,result_train,result_test\n",
    "            \n",
    "def train(X, y):\n",
    "    model = Sequential()\n",
    "    \n",
    "    model.add(Conv2D(64,3,input_shape=(128,128,3)))\n",
    "    model.add(Activation('relu'))\n",
    "    model.add(MaxPool2D(pool_size=(2,2)))\n",
    "\n",
    "    model.add(Conv2D(32,3))\n",
    "    model.add(Activation('relu'))\n",
    "    model.add(MaxPool2D(pool_size=(2,2)))\n",
    "    model.add(Dropout(0.5))\n",
    "    \n",
    "    model.add(Flatten())\n",
    "    model.add(Dense(1024))\n",
    "    model.add(Activation('relu'))\n",
    "    model.add(Dropout(0.5))\n",
    "\n",
    "    model.add(Dense(classes,activation='softmax'))\n",
    "    \n",
    "    adam = Adam(lr=1e-4)\n",
    "    \n",
    "    model.compile(loss='sparse_categorical_crossentropy',\n",
    "                  optimizer=adam, metrics=['accuracy'])\n",
    "    history = model.fit(X,y,epochs=20)\n",
    "    return model\n",
    "\n",
    "def model_eval(model, X, y):\n",
    "    score = model.evaluate(X,y)\n",
    "    return score"
   ]
  },
  {
   "cell_type": "markdown",
   "metadata": {},
   "source": [
    "学習の実行"
   ]
  },
  {
   "cell_type": "code",
   "execution_count": 28,
   "metadata": {},
   "outputs": [
    {
     "name": "stdout",
     "output_type": "stream",
     "text": [
      "56 56\n",
      "Epoch 1/20\n",
      "56/56 [==============================] - 6s 111ms/step - loss: 2.2677 - acc: 0.1607\n",
      "Epoch 2/20\n",
      "56/56 [==============================] - 4s 64ms/step - loss: 1.8328 - acc: 0.2143\n",
      "Epoch 3/20\n",
      "56/56 [==============================] - 3s 62ms/step - loss: 1.5311 - acc: 0.3929\n",
      "Epoch 4/20\n",
      "56/56 [==============================] - 4s 63ms/step - loss: 1.0415 - acc: 0.6786\n",
      "Epoch 5/20\n",
      "56/56 [==============================] - 4s 69ms/step - loss: 1.0795 - acc: 0.5893\n",
      "Epoch 6/20\n",
      "56/56 [==============================] - 4s 70ms/step - loss: 0.8359 - acc: 0.7321\n",
      "Epoch 7/20\n",
      "56/56 [==============================] - 4s 70ms/step - loss: 0.7088 - acc: 0.7679\n",
      "Epoch 8/20\n",
      "56/56 [==============================] - 4s 68ms/step - loss: 0.5666 - acc: 0.8750\n",
      "Epoch 9/20\n",
      "56/56 [==============================] - 5s 83ms/step - loss: 0.4844 - acc: 0.8393\n",
      "Epoch 10/20\n",
      "56/56 [==============================] - 4s 73ms/step - loss: 0.4061 - acc: 0.8393\n",
      "Epoch 11/20\n",
      "56/56 [==============================] - 4s 77ms/step - loss: 0.2705 - acc: 0.9643\n",
      "Epoch 12/20\n",
      "56/56 [==============================] - 5s 83ms/step - loss: 0.1899 - acc: 0.9821\n",
      "Epoch 13/20\n",
      "56/56 [==============================] - 5s 93ms/step - loss: 0.1757 - acc: 0.9464\n",
      "Epoch 14/20\n",
      "56/56 [==============================] - 4s 77ms/step - loss: 0.1385 - acc: 1.0000\n",
      "Epoch 15/20\n",
      "56/56 [==============================] - 4s 68ms/step - loss: 0.0878 - acc: 1.0000\n",
      "Epoch 16/20\n",
      "56/56 [==============================] - 4s 67ms/step - loss: 0.0915 - acc: 1.0000\n",
      "Epoch 17/20\n",
      "56/56 [==============================] - 4s 65ms/step - loss: 0.0891 - acc: 1.0000\n",
      "Epoch 18/20\n",
      "56/56 [==============================] - 4s 68ms/step - loss: 0.0668 - acc: 1.0000\n",
      "Epoch 19/20\n",
      "56/56 [==============================] - 4s 68ms/step - loss: 0.0554 - acc: 1.0000\n",
      "Epoch 20/20\n",
      "56/56 [==============================] - 4s 72ms/step - loss: 0.0359 - acc: 0.9821\n",
      "56/56 [==============================] - 1s 21ms/step\n",
      "56/56 [==============================] - 1s 17ms/step\n",
      "train loss= 0.0105977574629\n",
      "train accuracy= 1.0\n",
      "test loss= 1.96991293771\n",
      "test accuracy= 0.482142857143\n",
      "56 56\n",
      "Epoch 1/20\n",
      "56/56 [==============================] - 6s 107ms/step - loss: 2.2609 - acc: 0.0893\n",
      "Epoch 2/20\n",
      "56/56 [==============================] - 4s 70ms/step - loss: 1.7424 - acc: 0.2857\n",
      "Epoch 3/20\n",
      "56/56 [==============================] - 4s 72ms/step - loss: 1.5572 - acc: 0.3750\n",
      "Epoch 4/20\n",
      "56/56 [==============================] - 4s 78ms/step - loss: 1.2046 - acc: 0.6607\n",
      "Epoch 5/20\n",
      "56/56 [==============================] - 5s 82ms/step - loss: 0.9944 - acc: 0.6964\n",
      "Epoch 6/20\n",
      "56/56 [==============================] - 4s 64ms/step - loss: 0.8083 - acc: 0.7857\n",
      "Epoch 7/20\n",
      "56/56 [==============================] - 4s 75ms/step - loss: 0.6755 - acc: 0.8750\n",
      "Epoch 8/20\n",
      "56/56 [==============================] - 4s 73ms/step - loss: 0.5208 - acc: 0.8571\n",
      "Epoch 9/20\n",
      "56/56 [==============================] - 4s 66ms/step - loss: 0.3837 - acc: 0.9643\n",
      "Epoch 10/20\n",
      "56/56 [==============================] - 5s 98ms/step - loss: 0.3243 - acc: 0.9464\n",
      "Epoch 11/20\n",
      "56/56 [==============================] - 4s 67ms/step - loss: 0.2487 - acc: 0.9821\n",
      "Epoch 12/20\n",
      "56/56 [==============================] - 3s 61ms/step - loss: 0.1682 - acc: 1.0000\n",
      "Epoch 13/20\n",
      "56/56 [==============================] - 4s 64ms/step - loss: 0.1130 - acc: 1.0000\n",
      "Epoch 14/20\n",
      "56/56 [==============================] - 4s 64ms/step - loss: 0.0773 - acc: 1.0000\n",
      "Epoch 15/20\n",
      "56/56 [==============================] - 3s 60ms/step - loss: 0.0883 - acc: 0.9821\n",
      "Epoch 16/20\n",
      "56/56 [==============================] - 3s 60ms/step - loss: 0.0823 - acc: 1.0000\n",
      "Epoch 17/20\n",
      "56/56 [==============================] - 3s 61ms/step - loss: 0.0538 - acc: 1.0000\n",
      "Epoch 18/20\n",
      "56/56 [==============================] - 3s 58ms/step - loss: 0.0510 - acc: 1.0000\n",
      "Epoch 19/20\n",
      "56/56 [==============================] - 3s 58ms/step - loss: 0.0327 - acc: 1.0000\n",
      "Epoch 20/20\n",
      "56/56 [==============================] - 3s 58ms/step - loss: 0.0293 - acc: 1.0000\n",
      "56/56 [==============================] - 1s 20ms/step\n",
      "56/56 [==============================] - 1s 16ms/step\n",
      "train loss= 0.00963790714741\n",
      "train accuracy= 1.0\n",
      "test loss= 2.28393353735\n",
      "test accuracy= 0.321428573557\n",
      "56 56\n",
      "Epoch 1/20\n",
      "56/56 [==============================] - 6s 102ms/step - loss: 2.5028 - acc: 0.0714\n",
      "Epoch 2/20\n",
      "56/56 [==============================] - 4s 64ms/step - loss: 1.6702 - acc: 0.3571\n",
      "Epoch 3/20\n",
      "56/56 [==============================] - 4s 67ms/step - loss: 1.5564 - acc: 0.3929\n",
      "Epoch 4/20\n",
      "56/56 [==============================] - 3s 61ms/step - loss: 1.1524 - acc: 0.6071\n",
      "Epoch 5/20\n",
      "56/56 [==============================] - 4s 73ms/step - loss: 0.8411 - acc: 0.7321\n",
      "Epoch 6/20\n",
      "56/56 [==============================] - 4s 71ms/step - loss: 0.7342 - acc: 0.8214\n",
      "Epoch 7/20\n",
      "56/56 [==============================] - 4s 68ms/step - loss: 0.5989 - acc: 0.8214\n",
      "Epoch 8/20\n",
      "56/56 [==============================] - 5s 82ms/step - loss: 0.4043 - acc: 0.8929\n",
      "Epoch 9/20\n",
      "56/56 [==============================] - 5s 81ms/step - loss: 0.4102 - acc: 0.8929\n",
      "Epoch 10/20\n",
      "56/56 [==============================] - 4s 73ms/step - loss: 0.1949 - acc: 0.9464\n",
      "Epoch 11/20\n",
      "56/56 [==============================] - 4s 77ms/step - loss: 0.2176 - acc: 0.9464\n",
      "Epoch 12/20\n",
      "56/56 [==============================] - 5s 84ms/step - loss: 0.1523 - acc: 0.9643\n",
      "Epoch 13/20\n",
      "56/56 [==============================] - 5s 91ms/step - loss: 0.1104 - acc: 0.9821\n",
      "Epoch 14/20\n",
      "56/56 [==============================] - 4s 65ms/step - loss: 0.0858 - acc: 0.9821\n",
      "Epoch 15/20\n",
      "56/56 [==============================] - 3s 62ms/step - loss: 0.0807 - acc: 1.0000\n",
      "Epoch 16/20\n",
      "56/56 [==============================] - 3s 60ms/step - loss: 0.0588 - acc: 1.0000\n",
      "Epoch 17/20\n",
      "56/56 [==============================] - 3s 62ms/step - loss: 0.0446 - acc: 1.0000\n",
      "Epoch 18/20\n",
      "56/56 [==============================] - 3s 60ms/step - loss: 0.0272 - acc: 1.0000\n",
      "Epoch 19/20\n",
      "56/56 [==============================] - 3s 60ms/step - loss: 0.0384 - acc: 1.0000\n",
      "Epoch 20/20\n",
      "56/56 [==============================] - 3s 61ms/step - loss: 0.0335 - acc: 1.0000\n",
      "56/56 [==============================] - 1s 20ms/step\n",
      "56/56 [==============================] - 1s 16ms/step\n",
      "train loss= 0.00697126379237\n",
      "train accuracy= 1.0\n",
      "test loss= 2.59193972179\n",
      "test accuracy= 0.249999997871\n",
      "56 56\n",
      "Epoch 1/20\n",
      "56/56 [==============================] - 5s 93ms/step - loss: 2.0164 - acc: 0.1964\n",
      "Epoch 2/20\n",
      "56/56 [==============================] - 4s 73ms/step - loss: 1.7285 - acc: 0.3393\n",
      "Epoch 3/20\n",
      "56/56 [==============================] - 4s 64ms/step - loss: 1.2132 - acc: 0.6250\n",
      "Epoch 4/20\n",
      "56/56 [==============================] - 4s 67ms/step - loss: 1.0631 - acc: 0.6786\n",
      "Epoch 5/20\n",
      "56/56 [==============================] - 4s 74ms/step - loss: 0.8241 - acc: 0.7321\n",
      "Epoch 6/20\n",
      "56/56 [==============================] - 3s 61ms/step - loss: 0.6781 - acc: 0.8750\n",
      "Epoch 7/20\n",
      "56/56 [==============================] - 4s 68ms/step - loss: 0.4425 - acc: 0.8929\n",
      "Epoch 8/20\n",
      "56/56 [==============================] - 4s 65ms/step - loss: 0.3379 - acc: 0.9643\n",
      "Epoch 9/20\n",
      "56/56 [==============================] - 4s 67ms/step - loss: 0.2823 - acc: 0.9464\n",
      "Epoch 10/20\n",
      "56/56 [==============================] - 3s 62ms/step - loss: 0.1969 - acc: 0.9821\n",
      "Epoch 11/20\n",
      "56/56 [==============================] - 3s 61ms/step - loss: 0.1587 - acc: 1.0000\n",
      "Epoch 12/20\n",
      "56/56 [==============================] - 3s 60ms/step - loss: 0.1350 - acc: 0.9821\n",
      "Epoch 13/20\n",
      "56/56 [==============================] - 4s 63ms/step - loss: 0.0904 - acc: 1.0000\n",
      "Epoch 14/20\n",
      "56/56 [==============================] - 4s 73ms/step - loss: 0.0637 - acc: 1.0000\n",
      "Epoch 15/20\n",
      "56/56 [==============================] - 6s 113ms/step - loss: 0.0516 - acc: 0.9821\n",
      "Epoch 16/20\n",
      "56/56 [==============================] - 5s 89ms/step - loss: 0.0778 - acc: 0.9821\n",
      "Epoch 17/20\n",
      "56/56 [==============================] - 4s 75ms/step - loss: 0.0384 - acc: 1.0000\n",
      "Epoch 18/20\n",
      "56/56 [==============================] - 4s 77ms/step - loss: 0.0272 - acc: 1.0000\n",
      "Epoch 19/20\n",
      "56/56 [==============================] - 5s 83ms/step - loss: 0.0301 - acc: 1.0000\n",
      "Epoch 20/20\n"
     ]
    },
    {
     "name": "stdout",
     "output_type": "stream",
     "text": [
      "56/56 [==============================] - 4s 65ms/step - loss: 0.0140 - acc: 1.0000\n",
      "56/56 [==============================] - 1s 24ms/step\n",
      "56/56 [==============================] - 1s 16ms/step\n",
      "train loss= 0.00533775230204\n",
      "train accuracy= 1.0\n",
      "test loss= 2.28623434475\n",
      "test accuracy= 0.357142852885\n",
      "56 56\n",
      "Epoch 1/20\n",
      "56/56 [==============================] - 7s 118ms/step - loss: 2.1647 - acc: 0.1964\n",
      "Epoch 2/20\n",
      "56/56 [==============================] - 4s 64ms/step - loss: 1.6218 - acc: 0.3036\n",
      "Epoch 3/20\n",
      "56/56 [==============================] - 4s 65ms/step - loss: 1.2512 - acc: 0.5357\n",
      "Epoch 4/20\n",
      "56/56 [==============================] - 4s 66ms/step - loss: 0.9495 - acc: 0.7679\n",
      "Epoch 5/20\n",
      "56/56 [==============================] - 4s 66ms/step - loss: 0.8494 - acc: 0.7500\n",
      "Epoch 6/20\n",
      "56/56 [==============================] - 3s 62ms/step - loss: 0.6712 - acc: 0.7679\n",
      "Epoch 7/20\n",
      "56/56 [==============================] - 4s 65ms/step - loss: 0.4729 - acc: 0.8929\n",
      "Epoch 8/20\n",
      "56/56 [==============================] - 4s 64ms/step - loss: 0.4241 - acc: 0.9107\n",
      "Epoch 9/20\n",
      "56/56 [==============================] - 3s 62ms/step - loss: 0.3109 - acc: 0.9643\n",
      "Epoch 10/20\n",
      "56/56 [==============================] - 3s 62ms/step - loss: 0.2180 - acc: 0.9464\n",
      "Epoch 11/20\n",
      "56/56 [==============================] - 3s 60ms/step - loss: 0.1295 - acc: 1.0000\n",
      "Epoch 12/20\n",
      "56/56 [==============================] - 3s 60ms/step - loss: 0.1023 - acc: 1.0000\n",
      "Epoch 13/20\n",
      "56/56 [==============================] - 4s 64ms/step - loss: 0.0955 - acc: 1.0000\n",
      "Epoch 14/20\n",
      "56/56 [==============================] - 4s 70ms/step - loss: 0.0610 - acc: 1.0000\n",
      "Epoch 15/20\n",
      "56/56 [==============================] - 4s 69ms/step - loss: 0.0609 - acc: 1.0000\n",
      "Epoch 16/20\n",
      "56/56 [==============================] - 4s 76ms/step - loss: 0.0474 - acc: 1.0000\n",
      "Epoch 17/20\n",
      "56/56 [==============================] - 4s 67ms/step - loss: 0.0432 - acc: 1.0000\n",
      "Epoch 18/20\n",
      "56/56 [==============================] - 5s 81ms/step - loss: 0.0483 - acc: 0.9821\n",
      "Epoch 19/20\n",
      "56/56 [==============================] - 6s 111ms/step - loss: 0.0153 - acc: 1.0000\n",
      "Epoch 20/20\n",
      "56/56 [==============================] - 5s 98ms/step - loss: 0.0217 - acc: 1.0000\n",
      "56/56 [==============================] - 2s 28ms/step\n",
      "56/56 [==============================] - 1s 17ms/step\n",
      "train loss= 0.00479989355829\n",
      "train accuracy= 1.0\n",
      "test loss= 2.14460521085\n",
      "test accuracy= 0.392857142857\n"
     ]
    }
   ],
   "source": [
    "model,train_index,test_index,result_train,result_test = main()"
   ]
  },
  {
   "cell_type": "markdown",
   "metadata": {},
   "source": [
    "# 正認識率\n"
   ]
  },
  {
   "cell_type": "code",
   "execution_count": 20,
   "metadata": {},
   "outputs": [
    {
     "name": "stdout",
     "output_type": "stream",
     "text": [
      "0回目　　　　訓練データ正解率 1.00　 　テストデータ正解率 0.46\n",
      "1回目　　　　訓練データ正解率 1.00　 　テストデータ正解率 0.38\n",
      "2回目　　　　訓練データ正解率 1.00　 　テストデータ正解率 0.29\n",
      "3回目　　　　訓練データ正解率 1.00　 　テストデータ正解率 0.36\n",
      "4回目　　　　訓練データ正解率 1.00　 　テストデータ正解率 0.38\n",
      "平均正認識率　　　　訓練データ　  1.00　     テストデータ　  0.37　　\n"
     ]
    }
   ],
   "source": [
    "trainaccav, testaccav = 0,0 \n",
    "for i in range(5):\n",
    "    print(\"{0}回目　　　　訓練データ正解率{1:5.２f}　 　テストデータ正解率{２:5.２f}\".format(i,result_train[i][1], result_test[i][1]))\n",
    "    trainaccav, testaccav = trainaccav+ result_train[i][1], testaccav+result_test[i][1]  \n",
    "\n",
    "print(\"平均正認識率　　　　訓練データ　 {0:5.２f}　     テストデータ　 {1:5.２f}　　\".format(trainaccav/5,testaccav/5))"
   ]
  },
  {
   "cell_type": "markdown",
   "metadata": {},
   "source": [
    "# 詳細な認識結果\n",
    "５回試みた学習のうち、最終回の学習結果による全データの認識結果"
   ]
  },
  {
   "cell_type": "code",
   "execution_count": 22,
   "metadata": {},
   "outputs": [
    {
     "name": "stdout",
     "output_type": "stream",
     "text": [
      "0/6     0/0     0/0     0/2     0/2     0/0     0/0     0/6     0/0     0/0     0/2     0/0     0/4     0/0     0/6     0/0     \n",
      "1/5     1/5     1/1     1/1     1/6     1/5     1/1     1/1     1/1     1/1     1/1     1/5     1/1     1/1     1/1     1/1     \n",
      "2/6     2/6     2/2     2/2     2/1     2/2     2/6     2/0     2/2     2/2     2/2     2/0     2/2     2/2     2/6     2/2     \n",
      "3/3     3/4     3/3     3/5     3/3     3/3     3/1     3/2     3/3     3/3     3/3     3/3     3/3     3/3     3/3     3/1     \n",
      "4/4     4/2     4/4     4/1     4/4     4/4     4/4     4/4     4/4     4/4     4/4     4/4     4/4     4/4     4/3     4/4     \n",
      "5/5     5/5     5/5     5/5     5/6     5/5     5/5     5/5     5/5     5/5     5/1     5/5     5/1     5/5     5/6     5/4     \n",
      "6/5     6/0     6/6     6/6     6/6     6/4     6/6     6/6     6/6     6/6     6/6     6/6     6/6     6/6     6/6     6/6     \n"
     ]
    }
   ],
   "source": [
    "pred = model.predict_classes(X)\n",
    "for i in range(7):\n",
    "    for j in range(16):\n",
    "        print(\"{}/{}\".format(i,pred[16*i+j]), end=\"     \")\n",
    "    print()"
   ]
  },
  {
   "cell_type": "markdown",
   "metadata": {},
   "source": [
    "# 誤認識の解析\n",
    "\n",
    "一例として、最後のケースについて、 正解不正解の和人誤認識例を確認してみると、\n",
    "\n",
    "||カテゴリ |正認識数 |誤認識数|誤認識されたカテゴリ|\n",
    "|:--------------:|:-----------:|:----------:|:--------:|:---------------|\n",
    "|0|ハナミズキ|9|7||\n",
    "|1|キンモクセイ|１1|5||\n",
    "|２|ソメイヨシノ|9|7|　|\n",
    "|３|ヤマザクラ|１1|5||  \n",
    "|４|ハモクレン|１3|3||\n",
    "|５|ケヤキ|11|5||  \n",
    "|６|ハナノキ|１3|3||"
   ]
  },
  {
   "cell_type": "code",
   "execution_count": null,
   "metadata": {
    "collapsed": true
   },
   "outputs": [],
   "source": []
  },
  {
   "cell_type": "code",
   "execution_count": null,
   "metadata": {
    "collapsed": true
   },
   "outputs": [],
   "source": []
  },
  {
   "cell_type": "code",
   "execution_count": null,
   "metadata": {
    "collapsed": true
   },
   "outputs": [],
   "source": []
  }
 ],
 "metadata": {
  "kernelspec": {
   "display_name": "Python 3",
   "language": "python",
   "name": "python3"
  },
  "language_info": {
   "codemirror_mode": {
    "name": "ipython",
    "version": 3
   },
   "file_extension": ".py",
   "mimetype": "text/x-python",
   "name": "python",
   "nbconvert_exporter": "python",
   "pygments_lexer": "ipython3",
   "version": "3.6.2"
  }
 },
 "nbformat": 4,
 "nbformat_minor": 2
}
